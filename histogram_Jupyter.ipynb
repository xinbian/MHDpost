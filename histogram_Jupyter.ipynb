{
 "cells": [
  {
   "cell_type": "code",
   "execution_count": 1,
   "metadata": {
    "collapsed": true
   },
   "outputs": [],
   "source": [
    "# -*- coding: utf-8 -*-\n",
    "\"\"\"\n",
    "@author: Xin\n",
    "#calcuate fields PDF  Jupyter version\n",
    "\"\"\"\n",
    "import h5py\n",
    "import numpy as np\n",
    "import matplotlib.pyplot as plt\n",
    "from scipy.stats import norm\n",
    "h5file = h5py.File('conver.h5','r')\n",
    "%matplotlib inline"
   ]
  },
  {
   "cell_type": "code",
   "execution_count": 2,
   "metadata": {
    "collapsed": true
   },
   "outputs": [],
   "source": [
    "#specify rerun_tag\n",
    "istep='174000'\n",
    "#normalize parameters\n",
    "norm_const = 1.0/0.2874\n",
    "large_label = '$\\overline {S}_{ij}\\overline{B}_i\\overline{B}_j$'\n",
    "small_label = '${S}_{ij}{B}_i{B}_j-\\overline {S}_{ij}\\overline{B}_i\\overline{B}_j$'"
   ]
  },
  {
   "cell_type": "code",
   "execution_count": 3,
   "metadata": {
    "collapsed": true
   },
   "outputs": [],
   "source": [
    "#init function\n",
    "def init(istep, norm_const):\n",
    "    \n",
    "    delimiter = ''\n",
    "  #  mylist = ['Fields/','P60converion','/',istep]\n",
    "  #  filepath = delimiter.join(mylist)\n",
    "  #  databk = h5file.get(filepath)\n",
    "  #  large_data = np.array(databk)*norm_const\n",
    "\n",
    "    mylist = ['diff/','P','/',istep]\n",
    "    filepath = delimiter.join(mylist)\n",
    "    databk = h5file.get(filepath)\n",
    "    small_data = np.array(databk)*norm_const\n",
    "\n",
    "   # return large_data#, small_data\n",
    "    return small_data"
   ]
  },
  {
   "cell_type": "code",
   "execution_count": 4,
   "metadata": {
    "collapsed": true
   },
   "outputs": [],
   "source": [
    "sdata = init(istep, norm_const)"
   ]
  },
  {
   "cell_type": "code",
   "execution_count": null,
   "metadata": {
    "collapsed": true
   },
   "outputs": [],
   "source": [
    "#visulize flow\n",
    "def visuliz(istep, data, scale):\n",
    "  \n",
    "    data_2d = data[:,:,0]\n",
    "    plt.figure(1, figsize = (2.6,2.6), dpi=600)\n",
    "    plt.rc('font', family='Helvetica', size=3)\n",
    "    plt.imshow(data_2d, origin='none', aspect=1,\n",
    "               cmap='coolwarm',vmin=-scale,vmax=scale)\n",
    "    plt.colorbar()\n",
    "    plt.tight_layout()\n",
    "    plt.axis('off')\n",
    "    plt.savefig('vis.pdf', bbox_inches='tight')\n",
    "    plt.show()\n",
    "    plt.clf()"
   ]
  },
  {
   "cell_type": "code",
   "execution_count": 7,
   "metadata": {
    "collapsed": true
   },
   "outputs": [],
   "source": [
    "#plot PDF\n",
    "def hist(data, xlabel):    \n",
    "    \n",
    "    data = data.flatten()\n",
    "    plt.hist(data, bins=500, normed='True',histtype='step', log='True')  \n",
    "    plt.ylim((1E-8, 1))\n",
    "    plt.xlim((-1000, 1000))\n",
    "    plt.xlabel(xlabel, fontsize=10, color='black', fontname=\"Helvetica\")\n",
    "  \n",
    "    mean = 0.0909962093366\n",
    "    standard_deviation = np.sqrt(460.024288608)\n",
    "\n",
    "    # Plot between -10 and 10 with .001 steps.\n",
    "    range = np.arange(-1000, 1000, 0.001)\n",
    "    plt.xticks(np.arange(-1000,1500, 500))\n",
    "    plt.yticks([10E-8, 10E-4, 1])\n",
    "    # Mean = 0, SD = 1.\n",
    "    plt.plot(range, norm.pdf(range, mean, standard_deviation),'--')\n",
    "    \n",
    "    fig = plt.gcf()\n",
    "    fig.set_size_inches(2.6, 2.6)\n",
    "    plt.tight_layout()\n",
    "#    mean = np.around(np.mean(data), decimals=2)\n",
    "#    plt.axvline(x=np.mean(data),color='r')\n",
    " #   ax = fig.add_subplot(111)\n",
    " #   ax.annotate('mean\\n='+str(mean), xy=(mean, 1), xytext=(mean+20, 0.5),\n",
    " #           arrowprops=dict(arrowstyle=\"->\"))\n",
    "\n",
    "    delimiter = ''\n",
    "    titlelist = ['pdf.eps']\n",
    "    title=delimiter.join(titlelist)\n",
    "    plt.savefig(title, format='eps', dpi=600)\n",
    "    \n",
    "    \n",
    "    plt.show()\n",
    "    plt.clf()"
   ]
  },
  {
   "cell_type": "code",
   "execution_count": null,
   "metadata": {
    "collapsed": true
   },
   "outputs": [],
   "source": [
    "def statistics(data):\n",
    "    \n",
    "    data = data.flatten()\n",
    "    mean = np.mean(data)\n",
    "    var = np.var(data)\n",
    "    skew = ss.skew(data)\n",
    "    \n",
    "    return mean, var, skew"
   ]
  },
  {
   "cell_type": "code",
   "execution_count": 8,
   "metadata": {},
   "outputs": [
    {
     "name": "stderr",
     "output_type": "stream",
     "text": [
      "/software/intel/2017/intelpython27/lib/python2.7/site-packages/matplotlib/font_manager.py:1288: UserWarning: findfont: Font family [u'Helvetica'] not found. Falling back to Bitstream Vera Sans\n",
      "  (prop.get_family(), self.defaultFamily[fontext]))\n"
     ]
    },
    {
     "data": {
      "image/png": "[encoded data removed]",
      "text/plain": [
       "<matplotlib.figure.Figure at 0x2b16a973cc10>"
      ]
     },
     "metadata": {},
     "output_type": "display_data"
    },
    {
     "data": {
      "text/plain": [
       "<matplotlib.figure.Figure at 0x2b17316e8e50>"
      ]
     },
     "metadata": {},
     "output_type": "display_data"
    }
   ],
   "source": [
    "hist(sdata, small_label)"
   ]
  },
  {
   "cell_type": "code",
   "execution_count": null,
   "metadata": {
    "collapsed": true
   },
   "outputs": [],
   "source": [
    "h5file.close()"
   ]
  },
  {
   "cell_type": "code",
   "execution_count": null,
   "metadata": {},
   "outputs": [],
   "source": [
    "10E-4"
   ]
  },
  {
   "cell_type": "code",
   "execution_count": 5,
   "metadata": {},
   "outputs": [
    {
     "data": {
      "text/plain": [
       "array([-200, -100,    0,  100,  200])"
      ]
     },
     "execution_count": 5,
     "metadata": {},
     "output_type": "execute_result"
    }
   ],
   "source": [
    "np.arange(-200,300, 100)"
   ]
  },
  {
   "cell_type": "code",
   "execution_count": 6,
   "metadata": {},
   "outputs": [
    {
     "data": {
      "text/plain": [
       "array([-1000,  -500,     0,   500,  1000])"
      ]
     },
     "execution_count": 6,
     "metadata": {},
     "output_type": "execute_result"
    }
   ],
   "source": [
    "np.arange(-1000,1500, 500)"
   ]
  },
  {
   "cell_type": "code",
   "execution_count": null,
   "metadata": {
    "collapsed": true
   },
   "outputs": [],
   "source": []
  }
 ],
 "metadata": {
  "kernelspec": {
   "display_name": "Python 2 (intel)",
   "language": "python",
   "name": "intel-python"
  },
  "language_info": {
   "codemirror_mode": {
    "name": "ipython",
    "version": 2
   },
   "file_extension": ".py",
   "mimetype": "text/x-python",
   "name": "python",
   "nbconvert_exporter": "python",
   "pygments_lexer": "ipython2",
   "version": "2.7.12"
  }
 },
 "nbformat": 4,
 "nbformat_minor": 2
}
